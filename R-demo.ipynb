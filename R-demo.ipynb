{
 "cells": [
  {
   "cell_type": "code",
   "execution_count": 4,
   "id": "16a22637",
   "metadata": {
    "graffitiCellId": "id_1toijgl"
   },
   "outputs": [
    {
     "data": {
      "text/plain": [
       "Success: the objective function is 90000 "
      ]
     },
     "metadata": {},
     "output_type": "display_data"
    },
    {
     "data": {
      "text/html": [
       "<style>\n",
       ".list-inline {list-style: none; margin:0; padding: 0}\n",
       ".list-inline>li {display: inline-block}\n",
       ".list-inline>li:not(:last-child)::after {content: \"\\00b7\"; padding: 0 .5ex}\n",
       "</style>\n",
       "<ol class=list-inline><li>37.5</li><li>75</li></ol>\n"
      ],
      "text/latex": [
       "\\begin{enumerate*}\n",
       "\\item 37.5\n",
       "\\item 75\n",
       "\\end{enumerate*}\n"
      ],
      "text/markdown": [
       "1. 37.5\n",
       "2. 75\n",
       "\n",
       "\n"
      ],
      "text/plain": [
       "[1] 37.5 75.0"
      ]
     },
     "metadata": {},
     "output_type": "display_data"
    }
   ],
   "source": [
    "library(lpSolve)\n",
    "library(lpSolveAPI)\n",
    "c <- c(600, 900)\n",
    "A <- matrix(c(2,3,1,0,0,1), nrow=3, byrow=T)\n",
    "b <- c(300,80,75)\n",
    "res <- lp(\"max\", c, A, \"<=\", b)\n",
    "res\n",
    "res$solution"
   ]
  },
  {
   "cell_type": "markdown",
   "id": "84c88fe4",
   "metadata": {
    "graffitiCellId": "id_t4rr9wy"
   },
   "source": [
    "# <span class=\"graffiti-highlight graffiti-id_t4rr9wy-id_u5ty20c\"><i></i>Problem 1</span>\n"
   ]
  },
  {
   "cell_type": "code",
   "execution_count": null,
   "id": "f37c48e6",
   "metadata": {
    "graffitiCellId": "id_nct7ttf"
   },
   "outputs": [],
   "source": [
    "# This is a demo\n",
    "\n",
    "library(lpSolve)"
   ]
  },
  {
   "cell_type": "code",
   "execution_count": null,
   "id": "fdd259c5",
   "metadata": {
    "graffitiCellId": "id_4p6c5tr"
   },
   "outputs": [],
   "source": []
  }
 ],
 "metadata": {
  "graffiti": {
   "firstAuthorId": "dev",
   "id": "id_c1tgij8",
   "language": "EN"
  },
  "kernelspec": {
   "display_name": "R",
   "language": "R",
   "name": "ir"
  },
  "language_info": {
   "codemirror_mode": "r",
   "file_extension": ".r",
   "mimetype": "text/x-r-source",
   "name": "R",
   "pygments_lexer": "r",
   "version": "4.1.1"
  }
 },
 "nbformat": 4,
 "nbformat_minor": 5
}
