{
 "cells": [
  {
   "cell_type": "code",
   "execution_count": null,
   "metadata": {},
   "outputs": [],
   "source": [
    "library(lpSolve, Matrix)\n",
    "c <- c(600, 900)\n",
    "A <- matrix(c(2,3,1,0,0,1), nrow=3, byrow=T)\n",
    "b <- c(300,80,75)\n",
    "res <- lp(\"max\", c, A, \"<=\", b)\n",
    "res\n",
    "res$solution"
   ]
  }
 ],
 "metadata": {
  "kernelspec": {
   "display_name": "R",
   "language": "R",
   "name": "ir"
  },
  "language_info": {
   "codemirror_mode": "r",
   "file_extension": ".r",
   "mimetype": "text/x-r-source",
   "name": "R",
   "pygments_lexer": "r",
   "version": "3.4.2"
  }
 },
 "nbformat": 4,
 "nbformat_minor": 2
}
